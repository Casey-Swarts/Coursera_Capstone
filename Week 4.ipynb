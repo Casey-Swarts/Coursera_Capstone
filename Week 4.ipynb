{
    "cells": [
        {
            "cell_type": "markdown",
            "metadata": {
                "collapsed": true
            },
            "source": "Introduction/Business Problem:\n\nFor this project I wanted to focus on my current city and drill down to the local beach to find a good location to open a coffee shop. I'm wanting to find a location that can be accessible from the beach and possibly is in close proximity to a bakery or pastry shop. This type of research would be an interest to any entrepreneur hoping to move into owning a coffee franchise/business."
        },
        {
            "cell_type": "markdown",
            "metadata": {},
            "source": "Data:\n\nTo solve this business problem, I will collect location data from Foursquare and apply the techniques learned in previous lessons. The data collected will involve comparing the locations of coffee shops and bakeries in relation to Moonlight Beach. By examining the locations we can find the best area to start a coffee shop."
        },
        {
            "cell_type": "markdown",
            "metadata": {},
            "source": "Methodology:\n\nThe data was accessed through the FourSquare API interface. The data was then visualized using folium package to see the number of coffee shops and bakerys near Moonlight Beach."
        }
    ],
    "metadata": {
        "kernelspec": {
            "display_name": "Python 3.7",
            "language": "python",
            "name": "python3"
        },
        "language_info": {
            "codemirror_mode": {
                "name": "ipython",
                "version": 3
            },
            "file_extension": ".py",
            "mimetype": "text/x-python",
            "name": "python",
            "nbconvert_exporter": "python",
            "pygments_lexer": "ipython3",
            "version": "3.7.10"
        }
    },
    "nbformat": 4,
    "nbformat_minor": 1
}